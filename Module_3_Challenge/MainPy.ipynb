{
 "cells": [
  {
   "cell_type": "code",
   "execution_count": 1,
   "id": "4541c8a5",
   "metadata": {},
   "outputs": [],
   "source": [
    "import pandas as pd"
   ]
  },
  {
   "cell_type": "markdown",
   "id": "06f8e2f0",
   "metadata": {},
   "source": [
    "### PyBank"
   ]
  },
  {
   "cell_type": "code",
   "execution_count": 2,
   "id": "b1364819",
   "metadata": {},
   "outputs": [
    {
     "data": {
      "text/html": [
       "<div>\n",
       "<style scoped>\n",
       "    .dataframe tbody tr th:only-of-type {\n",
       "        vertical-align: middle;\n",
       "    }\n",
       "\n",
       "    .dataframe tbody tr th {\n",
       "        vertical-align: top;\n",
       "    }\n",
       "\n",
       "    .dataframe thead th {\n",
       "        text-align: right;\n",
       "    }\n",
       "</style>\n",
       "<table border=\"1\" class=\"dataframe\">\n",
       "  <thead>\n",
       "    <tr style=\"text-align: right;\">\n",
       "      <th></th>\n",
       "      <th>Date</th>\n",
       "      <th>Profit/Losses</th>\n",
       "    </tr>\n",
       "  </thead>\n",
       "  <tbody>\n",
       "    <tr>\n",
       "      <th>0</th>\n",
       "      <td>Jan-10</td>\n",
       "      <td>1088983</td>\n",
       "    </tr>\n",
       "    <tr>\n",
       "      <th>1</th>\n",
       "      <td>Feb-10</td>\n",
       "      <td>-354534</td>\n",
       "    </tr>\n",
       "    <tr>\n",
       "      <th>2</th>\n",
       "      <td>Mar-10</td>\n",
       "      <td>276622</td>\n",
       "    </tr>\n",
       "    <tr>\n",
       "      <th>3</th>\n",
       "      <td>Apr-10</td>\n",
       "      <td>-728133</td>\n",
       "    </tr>\n",
       "    <tr>\n",
       "      <th>4</th>\n",
       "      <td>May-10</td>\n",
       "      <td>852993</td>\n",
       "    </tr>\n",
       "  </tbody>\n",
       "</table>\n",
       "</div>"
      ],
      "text/plain": [
       "     Date  Profit/Losses\n",
       "0  Jan-10        1088983\n",
       "1  Feb-10        -354534\n",
       "2  Mar-10         276622\n",
       "3  Apr-10        -728133\n",
       "4  May-10         852993"
      ]
     },
     "execution_count": 2,
     "metadata": {},
     "output_type": "execute_result"
    }
   ],
   "source": [
    "# import csv file\n",
    "data = pd.read_csv(\"budget_data.csv\")\n",
    "data.head()"
   ]
  },
  {
   "cell_type": "code",
   "execution_count": 3,
   "id": "ffc2dead",
   "metadata": {},
   "outputs": [],
   "source": [
    "# The total number of months included in the dataset\n",
    "total_months = data.Date.value_counts().sum()"
   ]
  },
  {
   "cell_type": "code",
   "execution_count": 4,
   "id": "3a69ba09",
   "metadata": {},
   "outputs": [
    {
     "name": "stdout",
     "output_type": "stream",
     "text": [
      "Total months: 86\n"
     ]
    }
   ],
   "source": [
    "print('Total months:',total_months )"
   ]
  },
  {
   "cell_type": "code",
   "execution_count": 5,
   "id": "4ca34dbc",
   "metadata": {},
   "outputs": [],
   "source": [
    "# The net total amount of \"Profit/Losses\" over the entire period\n",
    "net_total = data.iloc[:,1].sum()"
   ]
  },
  {
   "cell_type": "code",
   "execution_count": 6,
   "id": "7d9c2f1a",
   "metadata": {},
   "outputs": [
    {
     "name": "stdout",
     "output_type": "stream",
     "text": [
      "Total : $ 22564198\n"
     ]
    }
   ],
   "source": [
    "print('Total : $',net_total)"
   ]
  },
  {
   "cell_type": "code",
   "execution_count": 7,
   "id": "73f24fec",
   "metadata": {},
   "outputs": [
    {
     "name": "stdout",
     "output_type": "stream",
     "text": [
      "Average Change:$ -8311.105882352942\n"
     ]
    }
   ],
   "source": [
    "# The changes in \"Profit/Losses\" over the entire period, and then the average of those changes (Average change)\n",
    "data1 = data.iloc[:,1]\n",
    "change = data1.diff()\n",
    "avg_change = change.mean()\n",
    "print('Average Change:$',avg_change)"
   ]
  },
  {
   "cell_type": "code",
   "execution_count": 8,
   "id": "5dc8ae81",
   "metadata": {},
   "outputs": [
    {
     "name": "stdout",
     "output_type": "stream",
     "text": [
      "Greatest Increase in Profits:$ 1862002.0\n"
     ]
    }
   ],
   "source": [
    "# The greatest increase in profits (date and amount) over the entire period\n",
    "max_diff = change.max()\n",
    "print('Greatest Increase in Profits:$',max_diff)"
   ]
  },
  {
   "cell_type": "code",
   "execution_count": 9,
   "id": "35f6d331",
   "metadata": {},
   "outputs": [
    {
     "name": "stdout",
     "output_type": "stream",
     "text": [
      "Greatest Decrease in Profits:$ -1825558.0\n"
     ]
    }
   ],
   "source": [
    "# The greatest decrease in profits (date and amount) over the entire period\n",
    "min_diff = change.min()\n",
    "print('Greatest Decrease in Profits:$',min_diff)"
   ]
  },
  {
   "cell_type": "markdown",
   "id": "ec88f28b",
   "metadata": {},
   "source": [
    "### PyPoll"
   ]
  },
  {
   "cell_type": "code",
   "execution_count": 10,
   "id": "3bdaeffd",
   "metadata": {},
   "outputs": [
    {
     "data": {
      "text/html": [
       "<div>\n",
       "<style scoped>\n",
       "    .dataframe tbody tr th:only-of-type {\n",
       "        vertical-align: middle;\n",
       "    }\n",
       "\n",
       "    .dataframe tbody tr th {\n",
       "        vertical-align: top;\n",
       "    }\n",
       "\n",
       "    .dataframe thead th {\n",
       "        text-align: right;\n",
       "    }\n",
       "</style>\n",
       "<table border=\"1\" class=\"dataframe\">\n",
       "  <thead>\n",
       "    <tr style=\"text-align: right;\">\n",
       "      <th></th>\n",
       "      <th>Ballot ID</th>\n",
       "      <th>County</th>\n",
       "      <th>Candidate</th>\n",
       "    </tr>\n",
       "  </thead>\n",
       "  <tbody>\n",
       "    <tr>\n",
       "      <th>0</th>\n",
       "      <td>1323913</td>\n",
       "      <td>Jefferson</td>\n",
       "      <td>Charles Casper Stockham</td>\n",
       "    </tr>\n",
       "    <tr>\n",
       "      <th>1</th>\n",
       "      <td>1005842</td>\n",
       "      <td>Jefferson</td>\n",
       "      <td>Charles Casper Stockham</td>\n",
       "    </tr>\n",
       "    <tr>\n",
       "      <th>2</th>\n",
       "      <td>1880345</td>\n",
       "      <td>Jefferson</td>\n",
       "      <td>Charles Casper Stockham</td>\n",
       "    </tr>\n",
       "    <tr>\n",
       "      <th>3</th>\n",
       "      <td>1600337</td>\n",
       "      <td>Jefferson</td>\n",
       "      <td>Charles Casper Stockham</td>\n",
       "    </tr>\n",
       "    <tr>\n",
       "      <th>4</th>\n",
       "      <td>1835994</td>\n",
       "      <td>Jefferson</td>\n",
       "      <td>Charles Casper Stockham</td>\n",
       "    </tr>\n",
       "  </tbody>\n",
       "</table>\n",
       "</div>"
      ],
      "text/plain": [
       "   Ballot ID     County                Candidate\n",
       "0    1323913  Jefferson  Charles Casper Stockham\n",
       "1    1005842  Jefferson  Charles Casper Stockham\n",
       "2    1880345  Jefferson  Charles Casper Stockham\n",
       "3    1600337  Jefferson  Charles Casper Stockham\n",
       "4    1835994  Jefferson  Charles Casper Stockham"
      ]
     },
     "execution_count": 10,
     "metadata": {},
     "output_type": "execute_result"
    }
   ],
   "source": [
    "# import csv file\n",
    "data = pd.read_csv(\"election_data.csv\")\n",
    "data.head()"
   ]
  },
  {
   "cell_type": "code",
   "execution_count": 11,
   "id": "fde40db1",
   "metadata": {},
   "outputs": [
    {
     "name": "stdout",
     "output_type": "stream",
     "text": [
      "Total votes: 369711\n"
     ]
    }
   ],
   "source": [
    "# The total number of votes cast\n",
    "total_votes = data.iloc[:,0].value_counts().sum()\n",
    "print('Total votes:',total_votes )"
   ]
  },
  {
   "cell_type": "code",
   "execution_count": 12,
   "id": "d91621a4",
   "metadata": {},
   "outputs": [
    {
     "data": {
      "text/plain": [
       "Diana DeGette              272892\n",
       "Charles Casper Stockham     85213\n",
       "Raymon Anthony Doane        11606\n",
       "Name: Candidate, dtype: int64"
      ]
     },
     "execution_count": 12,
     "metadata": {},
     "output_type": "execute_result"
    }
   ],
   "source": [
    "# A complete list of candidates who received votes\n",
    "data.Candidate.value_counts()"
   ]
  },
  {
   "cell_type": "code",
   "execution_count": 13,
   "id": "e27a01a4",
   "metadata": {},
   "outputs": [
    {
     "data": {
      "text/html": [
       "<div>\n",
       "<style scoped>\n",
       "    .dataframe tbody tr th:only-of-type {\n",
       "        vertical-align: middle;\n",
       "    }\n",
       "\n",
       "    .dataframe tbody tr th {\n",
       "        vertical-align: top;\n",
       "    }\n",
       "\n",
       "    .dataframe thead th {\n",
       "        text-align: right;\n",
       "    }\n",
       "</style>\n",
       "<table border=\"1\" class=\"dataframe\">\n",
       "  <thead>\n",
       "    <tr style=\"text-align: right;\">\n",
       "      <th></th>\n",
       "      <th>Candidate</th>\n",
       "      <th>Votes</th>\n",
       "    </tr>\n",
       "  </thead>\n",
       "  <tbody>\n",
       "    <tr>\n",
       "      <th>0</th>\n",
       "      <td>Diana DeGette</td>\n",
       "      <td>272892</td>\n",
       "    </tr>\n",
       "    <tr>\n",
       "      <th>1</th>\n",
       "      <td>Charles Casper Stockham</td>\n",
       "      <td>85213</td>\n",
       "    </tr>\n",
       "    <tr>\n",
       "      <th>2</th>\n",
       "      <td>Raymon Anthony Doane</td>\n",
       "      <td>11606</td>\n",
       "    </tr>\n",
       "  </tbody>\n",
       "</table>\n",
       "</div>"
      ],
      "text/plain": [
       "                 Candidate   Votes\n",
       "0            Diana DeGette  272892\n",
       "1  Charles Casper Stockham   85213\n",
       "2     Raymon Anthony Doane   11606"
      ]
     },
     "execution_count": 13,
     "metadata": {},
     "output_type": "execute_result"
    }
   ],
   "source": [
    "votes_data = {'Candidate':['Diana DeGette','Charles Casper Stockham','Raymon Anthony Doane'], 'Votes': [272892,85213,11606]}\n",
    "data1 = pd.DataFrame(votes_data)\n",
    "data1"
   ]
  },
  {
   "cell_type": "code",
   "execution_count": 14,
   "id": "cf56c12a",
   "metadata": {},
   "outputs": [
    {
     "data": {
      "text/html": [
       "<div>\n",
       "<style scoped>\n",
       "    .dataframe tbody tr th:only-of-type {\n",
       "        vertical-align: middle;\n",
       "    }\n",
       "\n",
       "    .dataframe tbody tr th {\n",
       "        vertical-align: top;\n",
       "    }\n",
       "\n",
       "    .dataframe thead th {\n",
       "        text-align: right;\n",
       "    }\n",
       "</style>\n",
       "<table border=\"1\" class=\"dataframe\">\n",
       "  <thead>\n",
       "    <tr style=\"text-align: right;\">\n",
       "      <th></th>\n",
       "      <th>Candidate</th>\n",
       "      <th>Votes</th>\n",
       "      <th>Percentage</th>\n",
       "    </tr>\n",
       "  </thead>\n",
       "  <tbody>\n",
       "    <tr>\n",
       "      <th>0</th>\n",
       "      <td>Diana DeGette</td>\n",
       "      <td>272892</td>\n",
       "      <td>73.812248</td>\n",
       "    </tr>\n",
       "    <tr>\n",
       "      <th>1</th>\n",
       "      <td>Charles Casper Stockham</td>\n",
       "      <td>85213</td>\n",
       "      <td>23.048543</td>\n",
       "    </tr>\n",
       "    <tr>\n",
       "      <th>2</th>\n",
       "      <td>Raymon Anthony Doane</td>\n",
       "      <td>11606</td>\n",
       "      <td>3.139209</td>\n",
       "    </tr>\n",
       "  </tbody>\n",
       "</table>\n",
       "</div>"
      ],
      "text/plain": [
       "                 Candidate   Votes  Percentage\n",
       "0            Diana DeGette  272892   73.812248\n",
       "1  Charles Casper Stockham   85213   23.048543\n",
       "2     Raymon Anthony Doane   11606    3.139209"
      ]
     },
     "execution_count": 14,
     "metadata": {},
     "output_type": "execute_result"
    }
   ],
   "source": [
    "# The percentage of votes each candidate won\n",
    "total = data1.Votes.sum()\n",
    "data1['Percentage'] = (data1['Votes'] / total) * 100\n",
    "data1"
   ]
  },
  {
   "cell_type": "code",
   "execution_count": 15,
   "id": "4c83fff9",
   "metadata": {},
   "outputs": [
    {
     "data": {
      "text/plain": [
       "'Diana DeGette'"
      ]
     },
     "execution_count": 15,
     "metadata": {},
     "output_type": "execute_result"
    }
   ],
   "source": [
    "data1.iloc[0,0]"
   ]
  },
  {
   "cell_type": "code",
   "execution_count": 17,
   "id": "c360bbe4",
   "metadata": {},
   "outputs": [
    {
     "name": "stdout",
     "output_type": "stream",
     "text": [
      "/Users/temitopeajose-adeogun/Desktop/Module Challenges/Module_3_Challenge\r\n"
     ]
    },
    {
     "data": {
      "text/html": [
       "<div>\n",
       "<style scoped>\n",
       "    .dataframe tbody tr th:only-of-type {\n",
       "        vertical-align: middle;\n",
       "    }\n",
       "\n",
       "    .dataframe tbody tr th {\n",
       "        vertical-align: top;\n",
       "    }\n",
       "\n",
       "    .dataframe thead th {\n",
       "        text-align: right;\n",
       "    }\n",
       "</style>\n",
       "<table border=\"1\" class=\"dataframe\">\n",
       "  <thead>\n",
       "    <tr style=\"text-align: right;\">\n",
       "      <th></th>\n",
       "      <th>Candidate</th>\n",
       "      <th>Votes</th>\n",
       "      <th>Percentage</th>\n",
       "    </tr>\n",
       "  </thead>\n",
       "  <tbody>\n",
       "    <tr>\n",
       "      <th>0</th>\n",
       "      <td>Diana DeGette</td>\n",
       "      <td>272892</td>\n",
       "      <td>73.812248</td>\n",
       "    </tr>\n",
       "    <tr>\n",
       "      <th>1</th>\n",
       "      <td>Charles Casper Stockham</td>\n",
       "      <td>85213</td>\n",
       "      <td>23.048543</td>\n",
       "    </tr>\n",
       "    <tr>\n",
       "      <th>2</th>\n",
       "      <td>Raymon Anthony Doane</td>\n",
       "      <td>11606</td>\n",
       "      <td>3.139209</td>\n",
       "    </tr>\n",
       "  </tbody>\n",
       "</table>\n",
       "</div>"
      ],
      "text/plain": [
       "                 Candidate   Votes  Percentage\n",
       "0            Diana DeGette  272892   73.812248\n",
       "1  Charles Casper Stockham   85213   23.048543\n",
       "2     Raymon Anthony Doane   11606    3.139209"
      ]
     },
     "execution_count": 17,
     "metadata": {},
     "output_type": "execute_result"
    }
   ],
   "source": []
  },
  {
   "cell_type": "code",
   "execution_count": null,
   "id": "271a5b23",
   "metadata": {},
   "outputs": [],
   "source": []
  }
 ],
 "metadata": {
  "kernelspec": {
   "display_name": "Python 3 (ipykernel)",
   "language": "python",
   "name": "python3"
  },
  "language_info": {
   "codemirror_mode": {
    "name": "ipython",
    "version": 3
   },
   "file_extension": ".py",
   "mimetype": "text/x-python",
   "name": "python",
   "nbconvert_exporter": "python",
   "pygments_lexer": "ipython3",
   "version": "3.11.4"
  }
 },
 "nbformat": 4,
 "nbformat_minor": 5
}
